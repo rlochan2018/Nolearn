{
  "nbformat": 4,
  "nbformat_minor": 0,
  "metadata": {
    "colab": {
      "provenance": [],
      "history_visible": true,
      "authorship_tag": "ABX9TyPMy0cmKqO20o5ekGReB7cp",
      "include_colab_link": true
    },
    "kernelspec": {
      "name": "python3",
      "display_name": "Python 3"
    },
    "language_info": {
      "name": "python"
    }
  },
  "cells": [
    {
      "cell_type": "markdown",
      "metadata": {
        "id": "view-in-github",
        "colab_type": "text"
      },
      "source": [
        "<a href=\"https://colab.research.google.com/github/rlochan2018/Nolearn/blob/main/pyspark_Part1.ipynb\" target=\"_parent\"><img src=\"https://colab.research.google.com/assets/colab-badge.svg\" alt=\"Open In Colab\"/></a>"
      ]
    },
    {
      "cell_type": "code",
      "execution_count": 2,
      "metadata": {
        "colab": {
          "base_uri": "https://localhost:8080/"
        },
        "id": "x2gQrCdw9TVG",
        "outputId": "afbbaee4-cec5-4677-dc77-3eae9f9c0c9b"
      },
      "outputs": [
        {
          "output_type": "stream",
          "name": "stdout",
          "text": [
            "Requirement already satisfied: pyspark==3.4.1 in /usr/local/lib/python3.10/dist-packages (3.4.1)\n",
            "Requirement already satisfied: py4j==0.10.9.7 in /usr/local/lib/python3.10/dist-packages (from pyspark==3.4.1) (0.10.9.7)\n"
          ]
        }
      ],
      "source": [
        "!pip install pyspark==3.4.1\n",
        "from pyspark.sql import SparkSession\n",
        "spark = SparkSession.builder.appName(\"MySparkApp\").getOrCreate()"
      ]
    },
    {
      "cell_type": "code",
      "source": [
        "df_pyspark=spark.read.csv('/content/The_Banker_Database_Sample_Data_2023.xlsx',header=True,inferSchema=True)"
      ],
      "metadata": {
        "id": "BNAy-RA69hPI"
      },
      "execution_count": 2,
      "outputs": []
    },
    {
      "cell_type": "code",
      "source": [
        "df_pyspark=spark.read.csv('/content/P3_GrantExport.csv',header=True,inferSchema=True,sep=';')"
      ],
      "metadata": {
        "id": "JX2uTCMDaO3v"
      },
      "execution_count": 4,
      "outputs": []
    },
    {
      "cell_type": "code",
      "source": [
        "df_pyspark.show(5)\n",
        "from pyspark.sql.functions import col, lit\n",
        "from pyspark.sql.functions import  broadcast # Import broadcast function\n",
        "df_filtered=df_pyspark.filter(col(\"keywords\").isNotNull())\n",
        "df_filtered.repartition(2).cache()\n",
        "broadcast(df_filtered)\n",
        "\n"
      ],
      "metadata": {
        "colab": {
          "base_uri": "https://localhost:8080/"
        },
        "id": "nxDoZXTNA0nK",
        "outputId": "feb05109-d4f5-435c-d7bd-3b11f20aa52f"
      },
      "execution_count": 5,
      "outputs": [
        {
          "output_type": "stream",
          "name": "stdout",
          "text": [
            "+--------------+---------------------+--------------------+---------------------+---------------------+--------------------+----------------------------+--------------------+-------------------+--------------------+-----------------+--------------------+-------------------------+---------------+----------+----------+---------------+--------+\n",
            "|Project Number|Project Number String|       Project Title|Project Title English|Responsible Applicant|  Funding Instrument|Funding Instrument Hierarchy|         Institution|Institution Country|          University|Discipline Number|     Discipline Name|Discipline Name Hierarchy|All disciplines|Start Date|  End Date|Approved Amount|Keywords|\n",
            "+--------------+---------------------+--------------------+---------------------+---------------------+--------------------+----------------------------+--------------------+-------------------+--------------------+-----------------+--------------------+-------------------------+---------------+----------+----------+---------------+--------+\n",
            "|             1|          1000-000001|Schlussband (Bd. ...|                 null|         Kaegi Werner|Project funding (...|             Project funding|                null|               null|   Unassignable - NA|            10302|       Swiss history|     Humanities and So...|          10302|01.10.1975|30.09.1976|       11619.00|    null|\n",
            "|             4|          1000-000004|Batterie de tests...|                 null|   Massarenti Léonard|Project funding (...|             Project funding|Faculté de Psycho...|        Switzerland|University of Gen...|            10104|Educational scien...|     Humanities and So...|          10104|01.10.1975|30.09.1976|       41022.00|    null|\n",
            "|             5|          1000-000005|Kritische Erstaus...|                 null| Kommission für da...|Project funding (...|             Project funding|Kommission für da...|        Switzerland|Non-profit organi...|            10101|          Philosophy|     Humanities and So...|          10101|01.03.1976|28.02.1985|       79732.00|    null|\n",
            "|             6|          1000-000006|Katalog der datie...|                 null|       Burckhardt Max|Project funding (...|             Project funding|Abteilung Handsch...|        Switzerland|University of Bas...|            10302|       Swiss history|     Humanities and So...|          10302|01.10.1975|30.09.1976|       52627.00|    null|\n",
            "|             7|          1000-000007|Wissenschaftliche...|                 null| Schweiz. Thesauru...|Project funding (...|             Project funding|Schweiz. Thesauru...|        Switzerland|Non-profit organi...|            10303|Ancient history a...|     Humanities and So...|          10303|01.01.1976|30.04.1978|      120042.00|    null|\n",
            "+--------------+---------------------+--------------------+---------------------+---------------------+--------------------+----------------------------+--------------------+-------------------+--------------------+-----------------+--------------------+-------------------------+---------------+----------+----------+---------------+--------+\n",
            "only showing top 5 rows\n",
            "\n"
          ]
        },
        {
          "output_type": "execute_result",
          "data": {
            "text/plain": [
              "DataFrame[Project Number: int, Project Number String: string, Project Title: string, Project Title English: string, Responsible Applicant: string, Funding Instrument: string, Funding Instrument Hierarchy: string, Institution: string, Institution Country: string, University: string, Discipline Number: int, Discipline Name: string, Discipline Name Hierarchy: string, All disciplines: string, Start Date: string, End Date: string, Approved Amount: string, Keywords: string]"
            ]
          },
          "metadata": {},
          "execution_count": 5
        }
      ]
    },
    {
      "cell_type": "code",
      "source": [
        "df_pyspark.columns"
      ],
      "metadata": {
        "colab": {
          "base_uri": "https://localhost:8080/"
        },
        "id": "ZwWEYWfkqkEh",
        "outputId": "501908a0-f1cd-44df-de42-4201f0b55a56"
      },
      "execution_count": 6,
      "outputs": [
        {
          "output_type": "execute_result",
          "data": {
            "text/plain": [
              "['Project Number',\n",
              " 'Project Number String',\n",
              " 'Project Title',\n",
              " 'Project Title English',\n",
              " 'Responsible Applicant',\n",
              " 'Funding Instrument',\n",
              " 'Funding Instrument Hierarchy',\n",
              " 'Institution',\n",
              " 'Institution Country',\n",
              " 'University',\n",
              " 'Discipline Number',\n",
              " 'Discipline Name',\n",
              " 'Discipline Name Hierarchy',\n",
              " 'All disciplines',\n",
              " 'Start Date',\n",
              " 'End Date',\n",
              " 'Approved Amount',\n",
              " 'Keywords']"
            ]
          },
          "metadata": {},
          "execution_count": 6
        }
      ]
    },
    {
      "cell_type": "code",
      "source": [
        "from pyspark.sql.functions import col\n",
        "\n",
        "# Get the existing column names\n",
        "old_columns = df_pyspark.columns\n",
        "\n",
        "# Create a dictionary to map old names to new names\n",
        "new_columns = {old_col: old_col.replace(\" \", \"_\") for old_col in old_columns}\n",
        "\n",
        "# Use the 'withColumnRenamed' function to rename columns\n",
        "for old_col, new_col in new_columns.items():\n",
        "    df_pyspark = df_pyspark.withColumnRenamed(old_col, new_col)\n",
        "\n",
        "# Now your DataFrame 'df_pyspark' has updated column names with underscores"
      ],
      "metadata": {
        "id": "Clywjz0rrDr6"
      },
      "execution_count": 7,
      "outputs": []
    },
    {
      "cell_type": "code",
      "source": [
        "columns_comma = \",\".join(df_pyspark.columns)\n",
        "print(columns_comma)\n",
        "\n",
        "columns_space = \" \".join(df_pyspark.columns)\n",
        "print(\"Columns (space-separated):\", columns_space)\n"
      ],
      "metadata": {
        "colab": {
          "base_uri": "https://localhost:8080/"
        },
        "id": "vWVzgb37rL--",
        "outputId": "7791ca5a-38f7-42ce-fb06-41ef0ae98751"
      },
      "execution_count": 14,
      "outputs": [
        {
          "output_type": "stream",
          "name": "stdout",
          "text": [
            "Project_Number,Project_Number_String,Project_Title,Project_Title_English,Responsible_Applicant,Funding_Instrument,Funding_Instrument_Hierarchy,Institution,Institution_Country,University,Discipline_Number,Discipline_Name,Discipline_Name_Hierarchy,All_disciplines,Start_Date,End_Date,Approved_Amount,Keywords\n",
            "Columns (space-separated): Project_Number Project_Number_String Project_Title Project_Title_English Responsible_Applicant Funding_Instrument Funding_Instrument_Hierarchy Institution Institution_Country University Discipline_Number Discipline_Name Discipline_Name_Hierarchy All_disciplines Start_Date End_Date Approved_Amount Keywords\n"
          ]
        }
      ]
    },
    {
      "cell_type": "code",
      "source": [
        "df_pyspark.schema"
      ],
      "metadata": {
        "colab": {
          "base_uri": "https://localhost:8080/"
        },
        "id": "gcePtvCmCxJc",
        "outputId": "c2ed4ba7-170e-49d3-df47-9583a316c799"
      },
      "execution_count": 16,
      "outputs": [
        {
          "output_type": "execute_result",
          "data": {
            "text/plain": [
              "StructType([StructField('Project_Number', IntegerType(), True), StructField('Project_Number_String', StringType(), True), StructField('Project_Title', StringType(), True), StructField('Project_Title_English', StringType(), True), StructField('Responsible_Applicant', StringType(), True), StructField('Funding_Instrument', StringType(), True), StructField('Funding_Instrument_Hierarchy', StringType(), True), StructField('Institution', StringType(), True), StructField('Institution_Country', StringType(), True), StructField('University', StringType(), True), StructField('Discipline_Number', IntegerType(), True), StructField('Discipline_Name', StringType(), True), StructField('Discipline_Name_Hierarchy', StringType(), True), StructField('All_disciplines', StringType(), True), StructField('Start_Date', StringType(), True), StructField('End_Date', StringType(), True), StructField('Approved_Amount', StringType(), True), StructField('Keywords', StringType(), True)])"
            ]
          },
          "metadata": {},
          "execution_count": 16
        }
      ]
    },
    {
      "cell_type": "code",
      "source": [
        "\n",
        "df_pyspark.schema.fields"
      ],
      "metadata": {
        "colab": {
          "base_uri": "https://localhost:8080/"
        },
        "id": "csIfWOWPCjNk",
        "outputId": "49f1e4cf-2d75-4f3f-99f7-8b33cc531f60"
      },
      "execution_count": 15,
      "outputs": [
        {
          "output_type": "execute_result",
          "data": {
            "text/plain": [
              "[StructField('Project_Number', IntegerType(), True),\n",
              " StructField('Project_Number_String', StringType(), True),\n",
              " StructField('Project_Title', StringType(), True),\n",
              " StructField('Project_Title_English', StringType(), True),\n",
              " StructField('Responsible_Applicant', StringType(), True),\n",
              " StructField('Funding_Instrument', StringType(), True),\n",
              " StructField('Funding_Instrument_Hierarchy', StringType(), True),\n",
              " StructField('Institution', StringType(), True),\n",
              " StructField('Institution_Country', StringType(), True),\n",
              " StructField('University', StringType(), True),\n",
              " StructField('Discipline_Number', IntegerType(), True),\n",
              " StructField('Discipline_Name', StringType(), True),\n",
              " StructField('Discipline_Name_Hierarchy', StringType(), True),\n",
              " StructField('All_disciplines', StringType(), True),\n",
              " StructField('Start_Date', StringType(), True),\n",
              " StructField('End_Date', StringType(), True),\n",
              " StructField('Approved_Amount', StringType(), True),\n",
              " StructField('Keywords', StringType(), True)]"
            ]
          },
          "metadata": {},
          "execution_count": 15
        }
      ]
    },
    {
      "cell_type": "code",
      "source": [
        "# 3. Numeric columns\n",
        "from pyspark.sql.types import IntegerType, DoubleType, LongType, FloatType, DecimalType\n",
        "from pyspark.sql.types import StringType\n",
        "numeric_columns = [field.name for field in df_pyspark.schema.fields if isinstance(field.dataType, (IntegerType, DoubleType, LongType, FloatType, DecimalType))]\n",
        "print(\"Numeric columns:\", numeric_columns)\n",
        "# 4. Character columns\n",
        "\n",
        "character_columns = [field.name for field in df_pyspark.schema.fields if isinstance(field.dataType, StringType)]\n",
        "print(\"Character columns:\", character_columns)"
      ],
      "metadata": {
        "colab": {
          "base_uri": "https://localhost:8080/"
        },
        "id": "ZzJAhk4qujJ9",
        "outputId": "c836cb02-8400-45ee-d771-7ac31ee6b170"
      },
      "execution_count": 13,
      "outputs": [
        {
          "output_type": "stream",
          "name": "stdout",
          "text": [
            "Numeric columns: ['Project_Number', 'Discipline_Number']\n",
            "Character columns: ['Project_Number_String', 'Project_Title', 'Project_Title_English', 'Responsible_Applicant', 'Funding_Instrument', 'Funding_Instrument_Hierarchy', 'Institution', 'Institution_Country', 'University', 'Discipline_Name', 'Discipline_Name_Hierarchy', 'All_disciplines', 'Start_Date', 'End_Date', 'Approved_Amount', 'Keywords']\n"
          ]
        }
      ]
    },
    {
      "cell_type": "code",
      "source": [
        "df_pyspark.show(5)"
      ],
      "metadata": {
        "colab": {
          "base_uri": "https://localhost:8080/"
        },
        "id": "BSQkLdRZDXWi",
        "outputId": "4a48202d-1cd5-4ee2-c9e8-2eba7e7b9516"
      },
      "execution_count": 19,
      "outputs": [
        {
          "output_type": "stream",
          "name": "stdout",
          "text": [
            "+--------------+---------------------+--------------------+---------------------+---------------------+--------------------+----------------------------+--------------------+-------------------+--------------------+-----------------+--------------------+-------------------------+---------------+----------+----------+---------------+--------+\n",
            "|Project_Number|Project_Number_String|       Project_Title|Project_Title_English|Responsible_Applicant|  Funding_Instrument|Funding_Instrument_Hierarchy|         Institution|Institution_Country|          University|Discipline_Number|     Discipline_Name|Discipline_Name_Hierarchy|All_disciplines|Start_Date|  End_Date|Approved_Amount|Keywords|\n",
            "+--------------+---------------------+--------------------+---------------------+---------------------+--------------------+----------------------------+--------------------+-------------------+--------------------+-----------------+--------------------+-------------------------+---------------+----------+----------+---------------+--------+\n",
            "|             1|          1000-000001|Schlussband (Bd. ...|                 null|         Kaegi Werner|Project funding (...|             Project funding|                null|               null|   Unassignable - NA|            10302|       Swiss history|     Humanities and So...|          10302|01.10.1975|30.09.1976|       11619.00|    null|\n",
            "|             4|          1000-000004|Batterie de tests...|                 null|   Massarenti Léonard|Project funding (...|             Project funding|Faculté de Psycho...|        Switzerland|University of Gen...|            10104|Educational scien...|     Humanities and So...|          10104|01.10.1975|30.09.1976|       41022.00|    null|\n",
            "|             5|          1000-000005|Kritische Erstaus...|                 null| Kommission für da...|Project funding (...|             Project funding|Kommission für da...|        Switzerland|Non-profit organi...|            10101|          Philosophy|     Humanities and So...|          10101|01.03.1976|28.02.1985|       79732.00|    null|\n",
            "|             6|          1000-000006|Katalog der datie...|                 null|       Burckhardt Max|Project funding (...|             Project funding|Abteilung Handsch...|        Switzerland|University of Bas...|            10302|       Swiss history|     Humanities and So...|          10302|01.10.1975|30.09.1976|       52627.00|    null|\n",
            "|             7|          1000-000007|Wissenschaftliche...|                 null| Schweiz. Thesauru...|Project funding (...|             Project funding|Schweiz. Thesauru...|        Switzerland|Non-profit organi...|            10303|Ancient history a...|     Humanities and So...|          10303|01.01.1976|30.04.1978|      120042.00|    null|\n",
            "+--------------+---------------------+--------------------+---------------------+---------------------+--------------------+----------------------------+--------------------+-------------------+--------------------+-----------------+--------------------+-------------------------+---------------+----------+----------+---------------+--------+\n",
            "only showing top 5 rows\n",
            "\n"
          ]
        }
      ]
    },
    {
      "cell_type": "code",
      "source": [
        "\n",
        "df_pyspark.show(truncate=5)"
      ],
      "metadata": {
        "colab": {
          "base_uri": "https://localhost:8080/"
        },
        "id": "05Rb3wnPuOi7",
        "outputId": "0ec993c8-c2df-471b-d939-152a9ca99610"
      },
      "execution_count": 20,
      "outputs": [
        {
          "output_type": "stream",
          "name": "stdout",
          "text": [
            "+--------------+---------------------+-------------+---------------------+---------------------+------------------+----------------------------+-----------+-------------------+----------+-----------------+---------------+-------------------------+---------------+----------+--------+---------------+--------+\n",
            "|Project_Number|Project_Number_String|Project_Title|Project_Title_English|Responsible_Applicant|Funding_Instrument|Funding_Instrument_Hierarchy|Institution|Institution_Country|University|Discipline_Number|Discipline_Name|Discipline_Name_Hierarchy|All_disciplines|Start_Date|End_Date|Approved_Amount|Keywords|\n",
            "+--------------+---------------------+-------------+---------------------+---------------------+------------------+----------------------------+-----------+-------------------+----------+-----------------+---------------+-------------------------+---------------+----------+--------+---------------+--------+\n",
            "|             1|                10...|        Sc...|                 null|                Ka...|             Pr...|                       Pr...|       null|               null|     Un...|            10302|          Sw...|                    Hu...|          10302|     01...|   30...|          11...|    null|\n",
            "|             4|                10...|        Ba...|                 null|                Ma...|             Pr...|                       Pr...|      Fa...|              Sw...|     Un...|            10104|          Ed...|                    Hu...|          10104|     01...|   30...|          41...|    null|\n",
            "|             5|                10...|        Kr...|                 null|                Ko...|             Pr...|                       Pr...|      Ko...|              Sw...|     No...|            10101|          Ph...|                    Hu...|          10101|     01...|   28...|          79...|    null|\n",
            "|             6|                10...|        Ka...|                 null|                Bu...|             Pr...|                       Pr...|      Ab...|              Sw...|     Un...|            10302|          Sw...|                    Hu...|          10302|     01...|   30...|          52...|    null|\n",
            "|             7|                10...|        Wi...|                 null|                Sc...|             Pr...|                       Pr...|      Sc...|              Sw...|     No...|            10303|          An...|                    Hu...|          10303|     01...|   30...|          12...|    null|\n",
            "|             8|                10...|        Di...|                 null|                Kl...|             Pr...|                       Pr...|      Sé...|              Sw...|     Un...|            10203|          Ec...|                    Hu...|          10203|     01...|   31...|          53...|    null|\n",
            "|             9|                10...|        Th...|                 null|                St...|             Pr...|                       Pr...|      In...|              Sw...|     Un...|            10102|          Re...|                    Hu...|          10102|     01...|   31...|          25...|    null|\n",
            "|            10|                10...|        Ko...|                 null|                De...|             Pr...|                       Pr...|      Os...|              Sw...|     Un...|            10301|          Ge...|                    Hu...|          10301|     01...|   31...|          47...|    null|\n",
            "|            11|                10...|        Ed...|                 null|                St...|             Pr...|                       Pr...|       null|               null|     Un...|            10502|          Ro...|                    Hu...|          10502|     01...|   31...|          25...|    null|\n",
            "|            13|                10...|        La...|                 null|                Pi...|             Pr...|                       Pr...|      La...|              Sw...|     Un...|            10105|          Ps...|                    Hu...|          10105|     01...|   30...|          36...|    null|\n",
            "|            14|                10...|        Wi...|                 null|                Fl...|             Pr...|                       Pr...|      Kl...|              Sw...|     Un...|            10105|          Ps...|                    Hu...|          10105|     01...|   31...|          15...|    null|\n",
            "|            17|                10...|        Re...|                 null|                Sc...|             Pr...|                       Pr...|      Sc...|              Sw...|     No...|            10205|          Le...|                    Hu...|          10205|     01...|   30...|          86...|    null|\n",
            "|            18|                10...|        L'...|                 null|                Gi...|             Pr...|                       Pr...|      Dé...|              Sw...|     Un...|            10201|          So...|                    Hu...|          10201|     01...|   30...|          11...|    null|\n",
            "|            19|                10...|        Da...|                 null|                Bo...|             Pr...|                       Pr...|      In...|              Sw...|     Un...|            10203|          Ec...|                    Hu...|          10203|     01...|   31...|          11...|    null|\n",
            "|            20|                10...|        Ko...|                 null|                Ho...|             Pr...|                       Pr...|      So...|              Sw...|     Un...|            10201|          So...|                    Hu...|          10201|     01...|   31...|          50...|    null|\n",
            "|            21|                10...|        St...|                 null|                Sa...|             Pr...|                       Pr...|      Fo...|              Sw...|     Un...|            10104|          Ed...|                    Hu...|          10104|     01...|   30...|          20...|    null|\n",
            "|            23|                10...|        Ps...|                 null|                Si...|             Pr...|                       Pr...|      Fa...|              Sw...|     Un...|            10105|          Ps...|                    Hu...|          10105|     01...|   30...|          14...|    null|\n",
            "|            25|                10...|        Gr...|                 null|                He...|             Pr...|                       Pr...|      So...|              Sw...|     Un...|            10201|          So...|                    Hu...|          10201|     01...|   31...|          83...|    null|\n",
            "|            26|                10...|        Ro...|                 null|                Un...|             Pr...|                       Pr...|       null|               null|     Un...|            10201|          So...|                    Hu...|          10...|     01...|   31...|          38...|    null|\n",
            "|            27|                10...|        Dé...|                 null|                Wi...|             Pr...|                       Pr...|       null|               null|     Un...|            10201|          So...|                    Hu...|          10201|     01...|   31...|          14...|    null|\n",
            "+--------------+---------------------+-------------+---------------------+---------------------+------------------+----------------------------+-----------+-------------------+----------+-----------------+---------------+-------------------------+---------------+----------+--------+---------------+--------+\n",
            "only showing top 20 rows\n",
            "\n"
          ]
        }
      ]
    },
    {
      "cell_type": "code",
      "source": [
        "df_pyspark.show(n=2,vertical=True)"
      ],
      "metadata": {
        "colab": {
          "base_uri": "https://localhost:8080/"
        },
        "id": "n0QMuDspERWa",
        "outputId": "054d1a6d-f4d0-4ee9-a1fb-5b1e16859ddd"
      },
      "execution_count": 26,
      "outputs": [
        {
          "output_type": "stream",
          "name": "stdout",
          "text": [
            "-RECORD 0--------------------------------------------\n",
            " Project_Number               | 1                    \n",
            " Project_Number_String        | 1000-000001          \n",
            " Project_Title                | Schlussband (Bd. ... \n",
            " Project_Title_English        | null                 \n",
            " Responsible_Applicant        | Kaegi Werner         \n",
            " Funding_Instrument           | Project funding (... \n",
            " Funding_Instrument_Hierarchy | Project funding      \n",
            " Institution                  | null                 \n",
            " Institution_Country          | null                 \n",
            " University                   | Unassignable - NA    \n",
            " Discipline_Number            | 10302                \n",
            " Discipline_Name              | Swiss history        \n",
            " Discipline_Name_Hierarchy    | Humanities and So... \n",
            " All_disciplines              | 10302                \n",
            " Start_Date                   | 01.10.1975           \n",
            " End_Date                     | 30.09.1976           \n",
            " Approved_Amount              | 11619.00             \n",
            " Keywords                     | null                 \n",
            "-RECORD 1--------------------------------------------\n",
            " Project_Number               | 4                    \n",
            " Project_Number_String        | 1000-000004          \n",
            " Project_Title                | Batterie de tests... \n",
            " Project_Title_English        | null                 \n",
            " Responsible_Applicant        | Massarenti Léonard   \n",
            " Funding_Instrument           | Project funding (... \n",
            " Funding_Instrument_Hierarchy | Project funding      \n",
            " Institution                  | Faculté de Psycho... \n",
            " Institution_Country          | Switzerland          \n",
            " University                   | University of Gen... \n",
            " Discipline_Number            | 10104                \n",
            " Discipline_Name              | Educational scien... \n",
            " Discipline_Name_Hierarchy    | Humanities and So... \n",
            " All_disciplines              | 10104                \n",
            " Start_Date                   | 01.10.1975           \n",
            " End_Date                     | 30.09.1976           \n",
            " Approved_Amount              | 41022.00             \n",
            " Keywords                     | null                 \n",
            "only showing top 2 rows\n",
            "\n"
          ]
        }
      ]
    },
    {
      "cell_type": "code",
      "source": [
        "df_pyspark.show(vertical=True,n=2)"
      ],
      "metadata": {
        "colab": {
          "base_uri": "https://localhost:8080/"
        },
        "id": "gs4ERtLoDr-b",
        "outputId": "f6357722-3b6a-4558-a65b-5ebd3c77ca52"
      },
      "execution_count": 25,
      "outputs": [
        {
          "output_type": "stream",
          "name": "stdout",
          "text": [
            "-RECORD 0--------------------------------------------\n",
            " Project_Number               | 1                    \n",
            " Project_Number_String        | 1000-000001          \n",
            " Project_Title                | Schlussband (Bd. ... \n",
            " Project_Title_English        | null                 \n",
            " Responsible_Applicant        | Kaegi Werner         \n",
            " Funding_Instrument           | Project funding (... \n",
            " Funding_Instrument_Hierarchy | Project funding      \n",
            " Institution                  | null                 \n",
            " Institution_Country          | null                 \n",
            " University                   | Unassignable - NA    \n",
            " Discipline_Number            | 10302                \n",
            " Discipline_Name              | Swiss history        \n",
            " Discipline_Name_Hierarchy    | Humanities and So... \n",
            " All_disciplines              | 10302                \n",
            " Start_Date                   | 01.10.1975           \n",
            " End_Date                     | 30.09.1976           \n",
            " Approved_Amount              | 11619.00             \n",
            " Keywords                     | null                 \n",
            "-RECORD 1--------------------------------------------\n",
            " Project_Number               | 4                    \n",
            " Project_Number_String        | 1000-000004          \n",
            " Project_Title                | Batterie de tests... \n",
            " Project_Title_English        | null                 \n",
            " Responsible_Applicant        | Massarenti Léonard   \n",
            " Funding_Instrument           | Project funding (... \n",
            " Funding_Instrument_Hierarchy | Project funding      \n",
            " Institution                  | Faculté de Psycho... \n",
            " Institution_Country          | Switzerland          \n",
            " University                   | University of Gen... \n",
            " Discipline_Number            | 10104                \n",
            " Discipline_Name              | Educational scien... \n",
            " Discipline_Name_Hierarchy    | Humanities and So... \n",
            " All_disciplines              | 10104                \n",
            " Start_Date                   | 01.10.1975           \n",
            " End_Date                     | 30.09.1976           \n",
            " Approved_Amount              | 41022.00             \n",
            " Keywords                     | null                 \n",
            "only showing top 2 rows\n",
            "\n"
          ]
        }
      ]
    },
    {
      "cell_type": "code",
      "source": [
        "df_pyspark.printSchema()"
      ],
      "metadata": {
        "colab": {
          "base_uri": "https://localhost:8080/"
        },
        "id": "Owt1xSAyEnCR",
        "outputId": "7dbd7bdc-b16a-4fd3-846e-92e7a2b80c3f"
      },
      "execution_count": 27,
      "outputs": [
        {
          "output_type": "stream",
          "name": "stdout",
          "text": [
            "root\n",
            " |-- Project_Number: integer (nullable = true)\n",
            " |-- Project_Number_String: string (nullable = true)\n",
            " |-- Project_Title: string (nullable = true)\n",
            " |-- Project_Title_English: string (nullable = true)\n",
            " |-- Responsible_Applicant: string (nullable = true)\n",
            " |-- Funding_Instrument: string (nullable = true)\n",
            " |-- Funding_Instrument_Hierarchy: string (nullable = true)\n",
            " |-- Institution: string (nullable = true)\n",
            " |-- Institution_Country: string (nullable = true)\n",
            " |-- University: string (nullable = true)\n",
            " |-- Discipline_Number: integer (nullable = true)\n",
            " |-- Discipline_Name: string (nullable = true)\n",
            " |-- Discipline_Name_Hierarchy: string (nullable = true)\n",
            " |-- All_disciplines: string (nullable = true)\n",
            " |-- Start_Date: string (nullable = true)\n",
            " |-- End_Date: string (nullable = true)\n",
            " |-- Approved_Amount: string (nullable = true)\n",
            " |-- Keywords: string (nullable = true)\n",
            "\n"
          ]
        }
      ]
    },
    {
      "cell_type": "code",
      "source": [
        "df_pyspark.printSchema()"
      ],
      "metadata": {
        "colab": {
          "base_uri": "https://localhost:8080/"
        },
        "id": "TAh5nHGPEz3Y",
        "outputId": "4d3023c9-eab4-44ea-9eef-0313af451cbd"
      },
      "execution_count": 31,
      "outputs": [
        {
          "output_type": "stream",
          "name": "stdout",
          "text": [
            "root\n",
            " |-- Project_Number: integer (nullable = true)\n",
            " |-- Project_Number_String: string (nullable = true)\n",
            " |-- Project_Title: string (nullable = true)\n",
            " |-- Project_Title_English: string (nullable = true)\n",
            " |-- Responsible_Applicant: string (nullable = true)\n",
            " |-- Funding_Instrument: string (nullable = true)\n",
            " |-- Funding_Instrument_Hierarchy: string (nullable = true)\n",
            " |-- Institution: string (nullable = true)\n",
            " |-- Institution_Country: string (nullable = true)\n",
            " |-- University: string (nullable = true)\n",
            " |-- Discipline_Number: integer (nullable = true)\n",
            " |-- Discipline_Name: string (nullable = true)\n",
            " |-- Discipline_Name_Hierarchy: string (nullable = true)\n",
            " |-- All_disciplines: string (nullable = true)\n",
            " |-- Start_Date: string (nullable = true)\n",
            " |-- End_Date: string (nullable = true)\n",
            " |-- Approved_Amount: string (nullable = true)\n",
            " |-- Keywords: string (nullable = true)\n",
            "\n"
          ]
        }
      ]
    },
    {
      "cell_type": "code",
      "source": [
        "# Extract schema information\n",
        "schema_info = [(field.name, str(field.dataType), field.nullable) for field in df_pyspark.schema.fields]\n",
        "\n",
        "# Create a DataFrame to store schema details\n",
        "schema_df = spark.createDataFrame(schema_info, schema=[\"Variable Name\", \"Type\", \"Nullable\"])\n",
        "\n",
        "# Show the schema DataFrame\n",
        "schema_df.show()\n"
      ],
      "metadata": {
        "colab": {
          "base_uri": "https://localhost:8080/"
        },
        "id": "3iRoJzqyElYj",
        "outputId": "758a2d4c-f7f5-4155-95cb-0fd245db1375"
      },
      "execution_count": 32,
      "outputs": [
        {
          "output_type": "stream",
          "name": "stdout",
          "text": [
            "+--------------------+-------------+--------+\n",
            "|       Variable Name|         Type|Nullable|\n",
            "+--------------------+-------------+--------+\n",
            "|      Project_Number|IntegerType()|    true|\n",
            "|Project_Number_St...| StringType()|    true|\n",
            "|       Project_Title| StringType()|    true|\n",
            "|Project_Title_Eng...| StringType()|    true|\n",
            "|Responsible_Appli...| StringType()|    true|\n",
            "|  Funding_Instrument| StringType()|    true|\n",
            "|Funding_Instrumen...| StringType()|    true|\n",
            "|         Institution| StringType()|    true|\n",
            "| Institution_Country| StringType()|    true|\n",
            "|          University| StringType()|    true|\n",
            "|   Discipline_Number|IntegerType()|    true|\n",
            "|     Discipline_Name| StringType()|    true|\n",
            "|Discipline_Name_H...| StringType()|    true|\n",
            "|     All_disciplines| StringType()|    true|\n",
            "|          Start_Date| StringType()|    true|\n",
            "|            End_Date| StringType()|    true|\n",
            "|     Approved_Amount| StringType()|    true|\n",
            "|            Keywords| StringType()|    true|\n",
            "+--------------------+-------------+--------+\n",
            "\n"
          ]
        }
      ]
    },
    {
      "cell_type": "code",
      "source": [
        "\n",
        "# Extract schema information and remove \"Type\" from the type names\n",
        "schema_info = [(field.name, str(field.dataType).replace(\"Type()\", \"\"), field.nullable) for field in df_pyspark.schema.fields]\n",
        "\n",
        "# Create a DataFrame to store schema details\n",
        "schema_df = spark.createDataFrame(schema_info, schema=[\"Variable Name\", \"Type\", \"Nullable\"])\n",
        "\n",
        "# Show the schema DataFrame\n",
        "schema_df.show()"
      ],
      "metadata": {
        "colab": {
          "base_uri": "https://localhost:8080/"
        },
        "id": "LpIYMKuaGk79",
        "outputId": "bddd2811-ddda-4018-d9db-87bf2f449647"
      },
      "execution_count": 35,
      "outputs": [
        {
          "output_type": "stream",
          "name": "stdout",
          "text": [
            "+--------------------+-------+--------+\n",
            "|       Variable Name|   Type|Nullable|\n",
            "+--------------------+-------+--------+\n",
            "|      Project_Number|Integer|    true|\n",
            "|Project_Number_St...| String|    true|\n",
            "|       Project_Title| String|    true|\n",
            "|Project_Title_Eng...| String|    true|\n",
            "|Responsible_Appli...| String|    true|\n",
            "|  Funding_Instrument| String|    true|\n",
            "|Funding_Instrumen...| String|    true|\n",
            "|         Institution| String|    true|\n",
            "| Institution_Country| String|    true|\n",
            "|          University| String|    true|\n",
            "|   Discipline_Number|Integer|    true|\n",
            "|     Discipline_Name| String|    true|\n",
            "|Discipline_Name_H...| String|    true|\n",
            "|     All_disciplines| String|    true|\n",
            "|          Start_Date| String|    true|\n",
            "|            End_Date| String|    true|\n",
            "|     Approved_Amount| String|    true|\n",
            "|            Keywords| String|    true|\n",
            "+--------------------+-------+--------+\n",
            "\n"
          ]
        }
      ]
    },
    {
      "cell_type": "code",
      "source": [
        "df_pyspark.describe(['keywords','approved_amount']).show()\n"
      ],
      "metadata": {
        "colab": {
          "base_uri": "https://localhost:8080/"
        },
        "id": "YXQbc4hFIPQo",
        "outputId": "2ce9e3c4-afb4-471b-ee54-47f9a6e029ae"
      },
      "execution_count": 42,
      "outputs": [
        {
          "output_type": "stream",
          "name": "stdout",
          "text": [
            "+-------+--------------------+--------------------+\n",
            "|summary|            keywords|     approved_amount|\n",
            "+-------+--------------------+--------------------+\n",
            "|  count|                7129|               30321|\n",
            "|   mean|  1.2857142857142858|   215791.3193345086|\n",
            "| stddev|  1.3827826698682306|   294079.2327838832|\n",
            "|    min|                   $|                0.00|\n",
            "|    max|ÖKUMENE; INTERREL...|data not included...|\n",
            "+-------+--------------------+--------------------+\n",
            "\n"
          ]
        }
      ]
    },
    {
      "cell_type": "code",
      "source": [
        "df_show=df_pyspark.describe(['keywords','approved_amount'])\n",
        "df_show.show()\n"
      ],
      "metadata": {
        "colab": {
          "base_uri": "https://localhost:8080/"
        },
        "id": "ZxMM-lagJMjI",
        "outputId": "e5120044-a1ec-4da3-b3e7-a94babca0930"
      },
      "execution_count": 45,
      "outputs": [
        {
          "output_type": "stream",
          "name": "stdout",
          "text": [
            "+-------+--------------------+--------------------+\n",
            "|summary|            keywords|     approved_amount|\n",
            "+-------+--------------------+--------------------+\n",
            "|  count|                7129|               30321|\n",
            "|   mean|  1.2857142857142858|   215791.3193345086|\n",
            "| stddev|  1.3827826698682306|   294079.2327838832|\n",
            "|    min|                   $|                0.00|\n",
            "|    max|ÖKUMENE; INTERREL...|data not included...|\n",
            "+-------+--------------------+--------------------+\n",
            "\n"
          ]
        }
      ]
    },
    {
      "cell_type": "code",
      "source": [
        "from pyspark.sql.functions import col, count, when, lit\n",
        "\n",
        "union_df = None\n",
        "\n",
        "# Loop through each column to describe and union\n",
        "for column in df_pyspark.columns:\n",
        "    described_df = df_pyspark.describe([column])\n",
        "    # 2. Calculate null count\n",
        "    null_count = df_pyspark.select(count(when(col(column).isNull(), column))).first()[0]\n",
        "\n",
        "# 3. Add null count and column name as columns to described_df\n",
        "    described_df = described_df.withColumn(\"null_count\", lit(null_count)).withColumn(\"column_name\", lit(column))\n",
        "\n",
        "    described_df = described_df.withColumn(\"column_name\", lit(column))\n",
        "    union_df = described_df if union_df is None else union_df.union(described_df)\n",
        "\n",
        "# Show the final unioned DataFrame\n",
        "union_df.show()"
      ],
      "metadata": {
        "colab": {
          "base_uri": "https://localhost:8080/"
        },
        "id": "rAgyTwDnP0ZV",
        "outputId": "e0582d52-30fd-46e5-eac3-dc2df466f063"
      },
      "execution_count": 51,
      "outputs": [
        {
          "output_type": "stream",
          "name": "stdout",
          "text": [
            "+-------+--------------------+----------+--------------------+\n",
            "|summary|      Project_Number|null_count|         column_name|\n",
            "+-------+--------------------+----------+--------------------+\n",
            "|  count|               30321|         0|      Project_Number|\n",
            "|   mean|    33035.8433758781|         0|      Project_Number|\n",
            "| stddev|  21443.147931547282|         0|      Project_Number|\n",
            "|    min|                   1|         0|      Project_Number|\n",
            "|    max|               68141|         0|      Project_Number|\n",
            "|  count|               30321|         0|Project_Number_St...|\n",
            "|   mean|                null|         0|Project_Number_St...|\n",
            "| stddev|                null|         0|Project_Number_St...|\n",
            "|    min|         1000-000001|         0|Project_Number_St...|\n",
            "|    max|         913B-037174|         0|Project_Number_St...|\n",
            "|  count|               30321|         0|       Project_Title|\n",
            "|   mean|                null|         0|       Project_Title|\n",
            "| stddev|                null|         0|       Project_Title|\n",
            "|    min|'... und so spars...|         0|       Project_Title|\n",
            "|    max|ß-Helices von grö...|         0|       Project_Title|\n",
            "|  count|                 102|     30219|Project_Title_Eng...|\n",
            "|   mean|                null|     30219|Project_Title_Eng...|\n",
            "| stddev|                null|     30219|Project_Title_Eng...|\n",
            "|    min|Affective and per...|     30219|Project_Title_Eng...|\n",
            "|    max|Witt groups, Moti...|     30219|Project_Title_Eng...|\n",
            "+-------+--------------------+----------+--------------------+\n",
            "only showing top 20 rows\n",
            "\n"
          ]
        }
      ]
    }
  ]
}